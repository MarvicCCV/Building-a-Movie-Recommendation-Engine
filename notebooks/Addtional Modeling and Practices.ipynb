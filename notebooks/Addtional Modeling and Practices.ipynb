{
 "cells": [
  {
   "cell_type": "code",
   "execution_count": null,
   "metadata": {},
   "outputs": [],
   "source": [
    "# Importing the necessary libraries \n",
    "\n",
    "import pandas as pd \n",
    "import numpy as np\n",
    "import seaborn as sns\n",
    "import scipy as sp\n",
    "import matplotlib.pyplot as plt\n",
    "\n",
    "sns.set_theme(style='darkgrid')"
   ]
  },
  {
   "cell_type": "code",
   "execution_count": null,
   "metadata": {},
   "outputs": [],
   "source": [
    "movie_path = r'C:\\Users\\cocou\\OneDrive\\Desktop\\Github Projects\\ML Projects\\movie_rec_engine\\data\\movies.dat'\n",
    "rating_path = r'C:\\Users\\cocou\\OneDrive\\Desktop\\Github Projects\\ML Projects\\movie_rec_engine\\data\\ratings.dat'\n",
    "user_path = r'C:\\Users\\cocou\\OneDrive\\Desktop\\Github Projects\\ML Projects\\movie_rec_engine\\data\\usersdat'"
   ]
  },
  {
   "cell_type": "code",
   "execution_count": null,
   "metadata": {},
   "outputs": [],
   "source": [
    "movies = pd.read_csv(movie_path, sep = '::', encoding='iso-8859-1', header=None, engine='python')\n",
    "movies.head(4)"
   ]
  },
  {
   "cell_type": "code",
   "execution_count": null,
   "metadata": {},
   "outputs": [],
   "source": [
    "# Assign column names to the DataFrame\n",
    "movies.columns = ['movie_id', 'movie_title', 'genre']\n",
    "\n",
    "# Extract the year from the title (the number inside parentheses) and create a new column 'year'\n",
    "movies['year'] = movies['movie_title'].str.extract(r'\\((\\d{4})\\)', expand=False)\n",
    "\n",
    "# Remove the year (the part inside parentheses) from the title\n",
    "movies['movie_title'] = movies['movie_title'].str.replace(r'\\(\\d{4}\\)', '', regex=True).str.strip()\n",
    "\n",
    "# Reorder the columns\n",
    "movies = movies[['movie_id', 'movie_title', 'year', 'genre']]\n",
    "\n",
    "# Display the first 4 rows after modifications\n",
    "movies.head(4)"
   ]
  }
 ],
 "metadata": {
  "kernelspec": {
   "display_name": "movie_rec_engine_env",
   "language": "python",
   "name": "python3"
  },
  "language_info": {
   "name": "python",
   "version": "3.11.10"
  }
 },
 "nbformat": 4,
 "nbformat_minor": 2
}
